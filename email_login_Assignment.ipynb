{
 "cells": [
  {
   "cell_type": "code",
   "execution_count": 1,
   "id": "f769eb46",
   "metadata": {},
   "outputs": [
    {
     "name": "stdout",
     "output_type": "stream",
     "text": [
      "enter email12hsxwb@gmail.com\n",
      "enter emaildad@gmai.com\n",
      "enter passworddwwqdw'\n",
      "enter passwordadd\n",
      "enter passwordMani@13\n"
     ]
    }
   ],
   "source": [
    "import re\n",
    "\n",
    "def email_validation(email): # Email Validation Function\n",
    "    x = re.findall(r\"^[a-bA-z]+[0-9a-zA-Z]+\\@[a-zA-z]+\\.[a-zA-Z]+$\",email)\n",
    "    if x :\n",
    "        return True\n",
    "    else:\n",
    "        return False\n",
    "\n",
    "def password_validation(password):# Password Validation Function\n",
    "    special_char = ['$', '@', '#', '%']\n",
    "    pas = True\n",
    "    if len(password)>16:\n",
    "        pas = False\n",
    "    if len(password)<5:\n",
    "        pas = False\n",
    "    if not any([i.isdigit() for i in password]):\n",
    "        pas = False\n",
    "    if not any([i.islower() for i in password]):\n",
    "        pas = False\n",
    "    if not any([i.isupper() for i in password]):\n",
    "        pas = False\n",
    "    if not any([i.isalpha() for i in password]):\n",
    "        pas = False\n",
    "    if not any([i in special_char for i in password]):\n",
    "        pas = False\n",
    "        \n",
    "    return pas\n",
    "\n",
    "# Login Process started\n",
    "email = input(\"enter email\")# taking email input from user\n",
    "p = False\n",
    "with open(\"data.txt\",\"a\") as file:\n",
    "    pass\n",
    "with open(\"data.txt\",\"r\") as file:\n",
    "    data = file.readlines()\n",
    "    for each in data:\n",
    "        if email in each:# checking the email in the file\n",
    "            print(\"forget password\")\n",
    "            if input(\"press y to get password\") == \"y\":#asking the user to confirm \n",
    "                lis = each.split(\" \")\n",
    "                print(\"password is {}\".format(lis[1]))# display the password\n",
    "                break\n",
    "    else:#if the password not found in the text file loop is executed\n",
    "        while True:# the loop is excuted untill a correct format email is enter\n",
    "            if email_validation(email):\n",
    "                p = True # if email is valided then ask user to enter password\n",
    "                break\n",
    "            email = input(\"enter email\")\n",
    "            \n",
    "\n",
    "if p:\n",
    "    while True:#loop will excuted untill a correct password is entered\n",
    "        password = input(\"enter password\")\n",
    "        if password_validation(password):\n",
    "            break\n",
    "    with open(\"data.txt\",\"a\") as file: # Appending the email and password to the file\n",
    "        file.write(email)\n",
    "        file.write(\" \"+password)\n",
    "        file.write(\"\\n\")\n",
    "        \n"
   ]
  }
 ],
 "metadata": {
  "kernelspec": {
   "display_name": "Python 3 (ipykernel)",
   "language": "python",
   "name": "python3"
  },
  "language_info": {
   "codemirror_mode": {
    "name": "ipython",
    "version": 3
   },
   "file_extension": ".py",
   "mimetype": "text/x-python",
   "name": "python",
   "nbconvert_exporter": "python",
   "pygments_lexer": "ipython3",
   "version": "3.9.7"
  }
 },
 "nbformat": 4,
 "nbformat_minor": 5
}
